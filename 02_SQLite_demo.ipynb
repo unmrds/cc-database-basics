{
 "cells": [
  {
   "cell_type": "markdown",
   "metadata": {},
   "source": [
    "# Introduction to SQL\n",
    "\n",
    "_SQL_ stands for 'structured query language.' For this ndemonstration we will be using an iPython notebook SQL library developed by Caterine Devlin at [https://github.com/catherinedevlin/ipython-sql](https://github.com/catherinedevlin/ipython-sql)\n",
    "\n",
    "Note that in order to run SQL commands within a Jupyter Notebooks, code blocks need to begin with a 'magic' function:\n",
    "\n",
    "```\n",
    "%sql\n",
    "```\n",
    "\n",
    "for inline SQL or\n",
    "\n",
    "```\n",
    "%%sql\n",
    "```\n",
    "\n",
    "for multiple lines of SQL in a code block.\n",
    "\n",
    "This is a minor addition that is not needed within a standard SQL database or interface, but we like this option because it's notebook friendly and the SQL syntax is otherwise the same.\n",
    "\n",
    "It may be necessary to install the library:"
   ]
  },
  {
   "cell_type": "code",
   "execution_count": 3,
   "metadata": {
    "collapsed": true
   },
   "outputs": [],
   "source": [
    "#!pip install ipython-sql # https://github.com/catherinedevlin/ipython-sql"
   ]
  },
  {
   "cell_type": "markdown",
   "metadata": {},
   "source": [
    "## Load the extension and connect to a database\n",
    "\n",
    "In this case we're using SQLite. As a file-based database, this means we don't need to configure a connection to a server."
   ]
  },
  {
   "cell_type": "code",
   "execution_count": 46,
   "metadata": {},
   "outputs": [
    {
     "name": "stdout",
     "output_type": "stream",
     "text": [
      "The sql extension is already loaded. To reload it, use:\n",
      "  %reload_ext sql\n"
     ]
    },
    {
     "data": {
      "text/plain": [
       "'Connected: None@None'"
      ]
     },
     "execution_count": 46,
     "metadata": {},
     "output_type": "execute_result"
    }
   ],
   "source": [
    "%load_ext sql\n",
    "%sql sqlite://"
   ]
  },
  {
   "cell_type": "markdown",
   "metadata": {},
   "source": [
    "## Getting Info\n",
    "\n",
    "Not using a GUI for this demo makes some things more difficult. In particular, database GUIs for SQL and SQLite make it easy to find out information about the database and database objects. But even without a GUI we often need to know things about the database including: \n",
    "\n",
    "* the number and names of tables\n",
    "* structural information and schema\n",
    "\n",
    "To do this in a notebook we can use SQLite PRAGMA statements. These commands provide control over and information about the SQLite environment. The base syntax needed for using PRAGMA commands here is\n",
    "\n",
    "```\n",
    "%sql pragma [command]\n",
    "```\n",
    "\n",
    "For example:\n",
    "\n",
    "```\n",
    "%sql pragma database_list;\n",
    "%sql pragma stats;\n",
    "%sql pragma table_info([table name]);\n",
    "```\n",
    "\n",
    "Those three should satisfy most of our requirements today. More information about PRAGMA statements is available in the SQLite documentation [https://www.sqlite.org/pragma.html](https://www.sqlite.org/pragma.html)."
   ]
  },
  {
   "cell_type": "markdown",
   "metadata": {},
   "source": [
    "### Create a simple table\n",
    "\n",
    "Note that the **IF EXISTS** and **IF NOT EXISTS** flags in the commands below are optional. We use them here because we want a clean, new table each time we run the code block. Without these flags we are more likely to get an error or generate duplicate data."
   ]
  },
  {
   "cell_type": "code",
   "execution_count": 83,
   "metadata": {},
   "outputs": [
    {
     "name": "stdout",
     "output_type": "stream",
     "text": [
      "Done.\n",
      "Done.\n",
      "1 rows affected.\n",
      "1 rows affected.\n"
     ]
    },
    {
     "data": {
      "text/plain": [
       "[]"
      ]
     },
     "execution_count": 83,
     "metadata": {},
     "output_type": "execute_result"
    }
   ],
   "source": [
    "%%sql\n",
    "DROP TABLE IF EXISTS donuts;\n",
    "CREATE TABLE IF NOT EXISTS donuts (doNum, dough, glaze, filling);\n",
    "INSERT INTO donuts VALUES (1, 'cake', 'maple', 'none');\n",
    "INSERT INTO donuts VALUES (2, 'yeast', 'sugar', 'none');"
   ]
  },
  {
   "cell_type": "markdown",
   "metadata": {},
   "source": [
    "Check the status of the database and get some info about it and our table using PRAGMA statements."
   ]
  },
  {
   "cell_type": "code",
   "execution_count": 88,
   "metadata": {},
   "outputs": [
    {
     "name": "stdout",
     "output_type": "stream",
     "text": [
      "Done.\n"
     ]
    },
    {
     "data": {
      "text/html": [
       "<table>\n",
       "    <tr>\n",
       "        <th>seq</th>\n",
       "        <th>name</th>\n",
       "        <th>file</th>\n",
       "    </tr>\n",
       "    <tr>\n",
       "        <td>0</td>\n",
       "        <td>main</td>\n",
       "        <td></td>\n",
       "    </tr>\n",
       "</table>"
      ],
      "text/plain": [
       "[(0, 'main', '')]"
      ]
     },
     "execution_count": 88,
     "metadata": {},
     "output_type": "execute_result"
    }
   ],
   "source": [
    "%sql PRAGMA DATABASE_LIST;"
   ]
  },
  {
   "cell_type": "code",
   "execution_count": 89,
   "metadata": {},
   "outputs": [
    {
     "name": "stdout",
     "output_type": "stream",
     "text": [
      "Done.\n"
     ]
    },
    {
     "data": {
      "text/html": [
       "<table>\n",
       "    <tr>\n",
       "        <th>table</th>\n",
       "        <th>index</th>\n",
       "        <th>width</th>\n",
       "        <th>height</th>\n",
       "    </tr>\n",
       "    <tr>\n",
       "        <td>donuts</td>\n",
       "        <td>None</td>\n",
       "        <td>43</td>\n",
       "        <td>200</td>\n",
       "    </tr>\n",
       "    <tr>\n",
       "        <td>sqlite_master</td>\n",
       "        <td>None</td>\n",
       "        <td>65</td>\n",
       "        <td>200</td>\n",
       "    </tr>\n",
       "</table>"
      ],
      "text/plain": [
       "[('donuts', None, 43, 200), ('sqlite_master', None, 65, 200)]"
      ]
     },
     "execution_count": 89,
     "metadata": {},
     "output_type": "execute_result"
    }
   ],
   "source": [
    "%sql PRAGMA STATS;"
   ]
  },
  {
   "cell_type": "markdown",
   "metadata": {},
   "source": [
    "Note that the output above references a system generated table, *sqlite_master* in addition to the table _donuts_ that we just created. This table provides metadata and gives us another way to access info about our tables:"
   ]
  },
  {
   "cell_type": "code",
   "execution_count": 90,
   "metadata": {},
   "outputs": [
    {
     "name": "stdout",
     "output_type": "stream",
     "text": [
      "Done.\n"
     ]
    },
    {
     "data": {
      "text/html": [
       "<table>\n",
       "    <tr>\n",
       "        <th>type</th>\n",
       "        <th>name</th>\n",
       "        <th>tbl_name</th>\n",
       "        <th>rootpage</th>\n",
       "        <th>sql</th>\n",
       "    </tr>\n",
       "    <tr>\n",
       "        <td>table</td>\n",
       "        <td>donuts</td>\n",
       "        <td>donuts</td>\n",
       "        <td>2</td>\n",
       "        <td>CREATE TABLE donuts (doNum, dough, glaze, filling)</td>\n",
       "    </tr>\n",
       "</table>"
      ],
      "text/plain": [
       "[('table', 'donuts', 'donuts', 2, 'CREATE TABLE donuts (doNum, dough, glaze, filling)')]"
      ]
     },
     "execution_count": 90,
     "metadata": {},
     "output_type": "execute_result"
    }
   ],
   "source": [
    "%sql SELECT * from sqlite_master;"
   ]
  },
  {
   "cell_type": "markdown",
   "metadata": {},
   "source": [
    "In either case, once we know the name of a table we can get more detailed info about it:"
   ]
  },
  {
   "cell_type": "code",
   "execution_count": 91,
   "metadata": {},
   "outputs": [
    {
     "name": "stdout",
     "output_type": "stream",
     "text": [
      "Done.\n"
     ]
    },
    {
     "data": {
      "text/html": [
       "<table>\n",
       "    <tr>\n",
       "        <th>cid</th>\n",
       "        <th>name</th>\n",
       "        <th>type</th>\n",
       "        <th>notnull</th>\n",
       "        <th>dflt_value</th>\n",
       "        <th>pk</th>\n",
       "    </tr>\n",
       "    <tr>\n",
       "        <td>0</td>\n",
       "        <td>doNum</td>\n",
       "        <td></td>\n",
       "        <td>0</td>\n",
       "        <td>None</td>\n",
       "        <td>0</td>\n",
       "    </tr>\n",
       "    <tr>\n",
       "        <td>1</td>\n",
       "        <td>dough</td>\n",
       "        <td></td>\n",
       "        <td>0</td>\n",
       "        <td>None</td>\n",
       "        <td>0</td>\n",
       "    </tr>\n",
       "    <tr>\n",
       "        <td>2</td>\n",
       "        <td>glaze</td>\n",
       "        <td></td>\n",
       "        <td>0</td>\n",
       "        <td>None</td>\n",
       "        <td>0</td>\n",
       "    </tr>\n",
       "    <tr>\n",
       "        <td>3</td>\n",
       "        <td>filling</td>\n",
       "        <td></td>\n",
       "        <td>0</td>\n",
       "        <td>None</td>\n",
       "        <td>0</td>\n",
       "    </tr>\n",
       "</table>"
      ],
      "text/plain": [
       "[(0, 'doNum', '', 0, None, 0),\n",
       " (1, 'dough', '', 0, None, 0),\n",
       " (2, 'glaze', '', 0, None, 0),\n",
       " (3, 'filling', '', 0, None, 0)]"
      ]
     },
     "execution_count": 91,
     "metadata": {},
     "output_type": "execute_result"
    }
   ],
   "source": [
    "%sql PRAGMA TABLE_INFO(donuts);"
   ]
  },
  {
   "cell_type": "markdown",
   "metadata": {},
   "source": [
    "### The SELECT statement\n",
    "\n",
    "In addition to not being very interesting, our _donuts_ table is poorly structured. There is nothing to prevent duplicate data, enforce non-null or data type requirements, etc. Before going much farther, we want to design a better table. But while we've so far been able to get into ABOUT the table, we haven't yet gotten info FROM the table. Doing so requires use of a SELECT statement. \n",
    "\n",
    "The basic syntax is straightforward:\n",
    "\n",
    "```\n",
    "SELECT column_1, column_2 FROM table\n",
    "```\n",
    "\n",
    "where a comma separated list of a table's column names is used in place of 'column_1, column_2' above, and 'table' is replaced with the name of the table we want to view.\n",
    "\n",
    "Often an asterisk is used as a shortcut for all columns."
   ]
  },
  {
   "cell_type": "code",
   "execution_count": 94,
   "metadata": {},
   "outputs": [
    {
     "name": "stdout",
     "output_type": "stream",
     "text": [
      "Done.\n"
     ]
    },
    {
     "data": {
      "text/html": [
       "<table>\n",
       "    <tr>\n",
       "        <th>doNum</th>\n",
       "        <th>dough</th>\n",
       "        <th>glaze</th>\n",
       "        <th>filling</th>\n",
       "    </tr>\n",
       "    <tr>\n",
       "        <td>1</td>\n",
       "        <td>cake</td>\n",
       "        <td>maple</td>\n",
       "        <td>none</td>\n",
       "    </tr>\n",
       "    <tr>\n",
       "        <td>2</td>\n",
       "        <td>yeast</td>\n",
       "        <td>sugar</td>\n",
       "        <td>none</td>\n",
       "    </tr>\n",
       "</table>"
      ],
      "text/plain": [
       "[(1, 'cake', 'maple', 'none'), (2, 'yeast', 'sugar', 'none')]"
      ]
     },
     "execution_count": 94,
     "metadata": {},
     "output_type": "execute_result"
    }
   ],
   "source": [
    "%sql SELECT * FROM donuts"
   ]
  },
  {
   "cell_type": "markdown",
   "metadata": {},
   "source": [
    "Keep in mind that the SELECT statement refers to columns, not rows. If we want to limit the number of columns returned, we do that accordingly:\n",
    "\n",
    "```\n",
    "SELECT glaze FROM donuts\n",
    "```\n",
    "\n",
    "which will return just the _glaze_ column and all rows in the table. Limiting the number of rows returned can be done various ways, notably by using a WHERE clause as detailed below."
   ]
  },
  {
   "cell_type": "code",
   "execution_count": 95,
   "metadata": {},
   "outputs": [
    {
     "name": "stdout",
     "output_type": "stream",
     "text": [
      "Done.\n"
     ]
    },
    {
     "data": {
      "text/html": [
       "<table>\n",
       "    <tr>\n",
       "        <th>glaze</th>\n",
       "    </tr>\n",
       "    <tr>\n",
       "        <td>maple</td>\n",
       "    </tr>\n",
       "    <tr>\n",
       "        <td>sugar</td>\n",
       "    </tr>\n",
       "</table>"
      ],
      "text/plain": [
       "[('maple',), ('sugar',)]"
      ]
     },
     "execution_count": 95,
     "metadata": {},
     "output_type": "execute_result"
    }
   ],
   "source": [
    "%sql SELECT glaze FROM donuts"
   ]
  },
  {
   "cell_type": "code",
   "execution_count": 97,
   "metadata": {},
   "outputs": [
    {
     "name": "stdout",
     "output_type": "stream",
     "text": [
      "1 rows affected.\n",
      "1 rows affected.\n",
      "1 rows affected.\n",
      "1 rows affected.\n"
     ]
    },
    {
     "data": {
      "text/plain": [
       "[]"
      ]
     },
     "execution_count": 97,
     "metadata": {},
     "output_type": "execute_result"
    }
   ],
   "source": [
    "%%sql\n",
    "INSERT INTO donuts VALUES (3, 'yeast', 'maple', 'boston creme');\n",
    "INSERT INTO donuts VALUES (4, 'yeast', 'chocolate', 'none');\n",
    "INSERT INTO donuts VALUES (5, 'cruller', 'vanilla', 'none');\n",
    "INSERT INTO donuts VALUES (6, 'yeast', 'chocolate ', 'boston creme');"
   ]
  },
  {
   "cell_type": "code",
   "execution_count": 99,
   "metadata": {},
   "outputs": [
    {
     "name": "stdout",
     "output_type": "stream",
     "text": [
      "Done.\n"
     ]
    },
    {
     "data": {
      "text/html": [
       "<table>\n",
       "    <tr>\n",
       "        <th>doNum</th>\n",
       "        <th>dough</th>\n",
       "        <th>glaze</th>\n",
       "        <th>filling</th>\n",
       "    </tr>\n",
       "    <tr>\n",
       "        <td>1</td>\n",
       "        <td>cake</td>\n",
       "        <td>maple</td>\n",
       "        <td>none</td>\n",
       "    </tr>\n",
       "    <tr>\n",
       "        <td>2</td>\n",
       "        <td>yeast</td>\n",
       "        <td>sugar</td>\n",
       "        <td>none</td>\n",
       "    </tr>\n",
       "    <tr>\n",
       "        <td>3</td>\n",
       "        <td>yeast</td>\n",
       "        <td>maple</td>\n",
       "        <td>boston creme</td>\n",
       "    </tr>\n",
       "    <tr>\n",
       "        <td>4</td>\n",
       "        <td>yeast</td>\n",
       "        <td>chocolate</td>\n",
       "        <td>none</td>\n",
       "    </tr>\n",
       "    <tr>\n",
       "        <td>5</td>\n",
       "        <td>cruller</td>\n",
       "        <td>vanilla</td>\n",
       "        <td>none</td>\n",
       "    </tr>\n",
       "    <tr>\n",
       "        <td>6</td>\n",
       "        <td>yeast</td>\n",
       "        <td>chocolate </td>\n",
       "        <td>boston creme</td>\n",
       "    </tr>\n",
       "</table>"
      ],
      "text/plain": [
       "[(1, 'cake', 'maple', 'none'),\n",
       " (2, 'yeast', 'sugar', 'none'),\n",
       " (3, 'yeast', 'maple', 'boston creme'),\n",
       " (4, 'yeast', 'chocolate', 'none'),\n",
       " (5, 'cruller', 'vanilla', 'none'),\n",
       " (6, 'yeast', 'chocolate ', 'boston creme')]"
      ]
     },
     "execution_count": 99,
     "metadata": {},
     "output_type": "execute_result"
    }
   ],
   "source": [
    "%sql SELECT * FROM donuts"
   ]
  }
 ],
 "metadata": {
  "kernelspec": {
   "display_name": "Python 3",
   "language": "python",
   "name": "python3"
  },
  "language_info": {
   "codemirror_mode": {
    "name": "ipython",
    "version": 3
   },
   "file_extension": ".py",
   "mimetype": "text/x-python",
   "name": "python",
   "nbconvert_exporter": "python",
   "pygments_lexer": "ipython3",
   "version": "3.6.1"
  }
 },
 "nbformat": 4,
 "nbformat_minor": 2
}
