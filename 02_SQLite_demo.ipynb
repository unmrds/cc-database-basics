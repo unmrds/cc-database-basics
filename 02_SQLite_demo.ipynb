{
 "cells": [
  {
   "cell_type": "markdown",
   "metadata": {},
   "source": [
    "# Introduction to SQL\n",
    "\n",
    "_SQL_ stands for 'structured query language.' For this ndemonstration we will be using an iPython notebook SQL library developed by Caterine Devlin and others at [https://github.com/catherinedevlin/ipython-sql](https://github.com/catherinedevlin/ipython-sql)\n",
    "\n",
    "Note that in order to run SQL commands within a Jupyter Notebooks, code blocks need to begin with a 'magic' function:\n",
    "\n",
    "```\n",
    "%sql\n",
    "```\n",
    "\n",
    "for inline SQL or\n",
    "\n",
    "```\n",
    "%%sql\n",
    "```\n",
    "\n",
    "for multiple lines of SQL in a code block.\n",
    "\n",
    "This is a minor addition that is not needed within a standard SQL database or interface, but we like this option because it's notebook friendly and the SQL syntax is otherwise the same.\n",
    "\n",
    "It may be necessary to install the library:"
   ]
  },
  {
   "cell_type": "code",
   "execution_count": 1,
   "metadata": {
    "collapsed": true
   },
   "outputs": [],
   "source": [
    "#!pip install ipython-sql # https://github.com/catherinedevlin/ipython-sql"
   ]
  },
  {
   "cell_type": "markdown",
   "metadata": {},
   "source": [
    "### Load the extension and connect to a database\n",
    "\n",
    "In this case we're using SQLite. As a file-based database, this means we don't need to configure a connection to a server."
   ]
  },
  {
   "cell_type": "code",
   "execution_count": 2,
   "metadata": {},
   "outputs": [
    {
     "data": {
      "text/plain": [
       "'Connected: None@None'"
      ]
     },
     "execution_count": 2,
     "metadata": {},
     "output_type": "execute_result"
    }
   ],
   "source": [
    "%load_ext sql\n",
    "%sql sqlite://"
   ]
  },
  {
   "cell_type": "markdown",
   "metadata": {},
   "source": [
    "### Getting Info\n",
    "\n",
    "Not using a GUI for this demo makes some things more difficult. In particular, database GUIs for SQL and SQLite make it easy to find out information about the database and database objects. But even without a GUI we often need to know things about the database including: \n",
    "\n",
    "* the number and names of tables\n",
    "* structural information and schema\n",
    "\n",
    "To do this in a notebook we can use SQLite PRAGMA statements. These commands provide control over and information about the SQLite environment. The base syntax needed for using PRAGMA commands here is\n",
    "\n",
    "```\n",
    "%sql pragma [command]\n",
    "```\n",
    "\n",
    "For example:\n",
    "\n",
    "```\n",
    "%sql pragma database_list;\n",
    "%sql pragma stats;\n",
    "%sql pragma table_info([table name]);\n",
    "```\n",
    "\n",
    "Those three should satisfy most of our requirements today. More information about PRAGMA statements is available in the SQLite documentation [https://www.sqlite.org/pragma.html](https://www.sqlite.org/pragma.html)."
   ]
  },
  {
   "cell_type": "markdown",
   "metadata": {},
   "source": [
    "### Create a simple table and do stuff\n",
    "\n",
    "Note that the **IF EXISTS** and **IF NOT EXISTS** flags in the commands below are optional. We use them here because we want a clean, new table each time we run the code block. Without these flags we are more likely to get an error or generate duplicate data."
   ]
  },
  {
   "cell_type": "code",
   "execution_count": 3,
   "metadata": {},
   "outputs": [
    {
     "name": "stdout",
     "output_type": "stream",
     "text": [
      "Done.\n",
      "Done.\n",
      "1 rows affected.\n",
      "1 rows affected.\n"
     ]
    },
    {
     "data": {
      "text/plain": [
       "[]"
      ]
     },
     "execution_count": 3,
     "metadata": {},
     "output_type": "execute_result"
    }
   ],
   "source": [
    "%%sql\n",
    "DROP TABLE IF EXISTS donuts;\n",
    "CREATE TABLE IF NOT EXISTS donuts (doNum, dough, glaze, filling);\n",
    "INSERT INTO donuts VALUES (1, 'cake', 'maple', 'none');\n",
    "INSERT INTO donuts VALUES (2, 'yeast', 'sugar', 'none');"
   ]
  },
  {
   "cell_type": "markdown",
   "metadata": {},
   "source": [
    "Check the status of the database and get some info about it and our table using PRAGMA statements."
   ]
  },
  {
   "cell_type": "code",
   "execution_count": 4,
   "metadata": {},
   "outputs": [
    {
     "name": "stdout",
     "output_type": "stream",
     "text": [
      "Done.\n"
     ]
    },
    {
     "data": {
      "text/html": [
       "<table>\n",
       "    <tr>\n",
       "        <th>seq</th>\n",
       "        <th>name</th>\n",
       "        <th>file</th>\n",
       "    </tr>\n",
       "    <tr>\n",
       "        <td>0</td>\n",
       "        <td>main</td>\n",
       "        <td></td>\n",
       "    </tr>\n",
       "</table>"
      ],
      "text/plain": [
       "[(0, 'main', '')]"
      ]
     },
     "execution_count": 4,
     "metadata": {},
     "output_type": "execute_result"
    }
   ],
   "source": [
    "%sql PRAGMA DATABASE_LIST;"
   ]
  },
  {
   "cell_type": "code",
   "execution_count": 5,
   "metadata": {},
   "outputs": [
    {
     "name": "stdout",
     "output_type": "stream",
     "text": [
      "Done.\n"
     ]
    },
    {
     "data": {
      "text/html": [
       "<table>\n",
       "    <tr>\n",
       "        <th>table</th>\n",
       "        <th>index</th>\n",
       "        <th>width</th>\n",
       "        <th>height</th>\n",
       "    </tr>\n",
       "    <tr>\n",
       "        <td>donuts</td>\n",
       "        <td>None</td>\n",
       "        <td>43</td>\n",
       "        <td>200</td>\n",
       "    </tr>\n",
       "    <tr>\n",
       "        <td>sqlite_master</td>\n",
       "        <td>None</td>\n",
       "        <td>65</td>\n",
       "        <td>200</td>\n",
       "    </tr>\n",
       "</table>"
      ],
      "text/plain": [
       "[('donuts', None, 43, 200), ('sqlite_master', None, 65, 200)]"
      ]
     },
     "execution_count": 5,
     "metadata": {},
     "output_type": "execute_result"
    }
   ],
   "source": [
    "%sql PRAGMA STATS;"
   ]
  },
  {
   "cell_type": "markdown",
   "metadata": {},
   "source": [
    "Note that the output above references a system generated table, *sqlite_master* in addition to the table _donuts_ that we just created. This table provides metadata and gives us another way to access info about our tables:"
   ]
  },
  {
   "cell_type": "code",
   "execution_count": 6,
   "metadata": {},
   "outputs": [
    {
     "name": "stdout",
     "output_type": "stream",
     "text": [
      "Done.\n"
     ]
    },
    {
     "data": {
      "text/html": [
       "<table>\n",
       "    <tr>\n",
       "        <th>type</th>\n",
       "        <th>name</th>\n",
       "        <th>tbl_name</th>\n",
       "        <th>rootpage</th>\n",
       "        <th>sql</th>\n",
       "    </tr>\n",
       "    <tr>\n",
       "        <td>table</td>\n",
       "        <td>donuts</td>\n",
       "        <td>donuts</td>\n",
       "        <td>2</td>\n",
       "        <td>CREATE TABLE donuts (doNum, dough, glaze, filling)</td>\n",
       "    </tr>\n",
       "</table>"
      ],
      "text/plain": [
       "[('table', 'donuts', 'donuts', 2, 'CREATE TABLE donuts (doNum, dough, glaze, filling)')]"
      ]
     },
     "execution_count": 6,
     "metadata": {},
     "output_type": "execute_result"
    }
   ],
   "source": [
    "%sql SELECT * from sqlite_master;"
   ]
  },
  {
   "cell_type": "markdown",
   "metadata": {},
   "source": [
    "In either case, once we know the name of a table we can get more detailed info about it:"
   ]
  },
  {
   "cell_type": "code",
   "execution_count": 7,
   "metadata": {},
   "outputs": [
    {
     "name": "stdout",
     "output_type": "stream",
     "text": [
      "Done.\n"
     ]
    },
    {
     "data": {
      "text/html": [
       "<table>\n",
       "    <tr>\n",
       "        <th>cid</th>\n",
       "        <th>name</th>\n",
       "        <th>type</th>\n",
       "        <th>notnull</th>\n",
       "        <th>dflt_value</th>\n",
       "        <th>pk</th>\n",
       "    </tr>\n",
       "    <tr>\n",
       "        <td>0</td>\n",
       "        <td>doNum</td>\n",
       "        <td></td>\n",
       "        <td>0</td>\n",
       "        <td>None</td>\n",
       "        <td>0</td>\n",
       "    </tr>\n",
       "    <tr>\n",
       "        <td>1</td>\n",
       "        <td>dough</td>\n",
       "        <td></td>\n",
       "        <td>0</td>\n",
       "        <td>None</td>\n",
       "        <td>0</td>\n",
       "    </tr>\n",
       "    <tr>\n",
       "        <td>2</td>\n",
       "        <td>glaze</td>\n",
       "        <td></td>\n",
       "        <td>0</td>\n",
       "        <td>None</td>\n",
       "        <td>0</td>\n",
       "    </tr>\n",
       "    <tr>\n",
       "        <td>3</td>\n",
       "        <td>filling</td>\n",
       "        <td></td>\n",
       "        <td>0</td>\n",
       "        <td>None</td>\n",
       "        <td>0</td>\n",
       "    </tr>\n",
       "</table>"
      ],
      "text/plain": [
       "[(0, 'doNum', '', 0, None, 0),\n",
       " (1, 'dough', '', 0, None, 0),\n",
       " (2, 'glaze', '', 0, None, 0),\n",
       " (3, 'filling', '', 0, None, 0)]"
      ]
     },
     "execution_count": 7,
     "metadata": {},
     "output_type": "execute_result"
    }
   ],
   "source": [
    "%sql PRAGMA TABLE_INFO(donuts);"
   ]
  },
  {
   "cell_type": "markdown",
   "metadata": {},
   "source": [
    "### The SELECT statement\n",
    "\n",
    "In addition to not being very interesting, our _donuts_ table is poorly structured. There is nothing to prevent duplicate data, enforce non-null or data type requirements, etc. Before going much farther, we want to design a better table. But while we've so far been able to get into ABOUT the table, we haven't yet gotten info FROM the table. Doing so requires use of a SELECT statement. \n",
    "\n",
    "The basic syntax is straightforward:\n",
    "\n",
    "```\n",
    "SELECT result_column_1, result_column_2 FROM table\n",
    "```\n",
    "\n",
    "where a comma separated list of functions or column names are used in place of 'result_column_1, result_column_2' above, and 'table' is replaced with the name of the table we want to view.\n",
    "\n",
    "Often an asterisk is used as a shortcut for all columns."
   ]
  },
  {
   "cell_type": "code",
   "execution_count": 8,
   "metadata": {},
   "outputs": [
    {
     "name": "stdout",
     "output_type": "stream",
     "text": [
      "Done.\n"
     ]
    },
    {
     "data": {
      "text/html": [
       "<table>\n",
       "    <tr>\n",
       "        <th>doNum</th>\n",
       "        <th>dough</th>\n",
       "        <th>glaze</th>\n",
       "        <th>filling</th>\n",
       "    </tr>\n",
       "    <tr>\n",
       "        <td>1</td>\n",
       "        <td>cake</td>\n",
       "        <td>maple</td>\n",
       "        <td>none</td>\n",
       "    </tr>\n",
       "    <tr>\n",
       "        <td>2</td>\n",
       "        <td>yeast</td>\n",
       "        <td>sugar</td>\n",
       "        <td>none</td>\n",
       "    </tr>\n",
       "</table>"
      ],
      "text/plain": [
       "[(1, 'cake', 'maple', 'none'), (2, 'yeast', 'sugar', 'none')]"
      ]
     },
     "execution_count": 8,
     "metadata": {},
     "output_type": "execute_result"
    }
   ],
   "source": [
    "%sql SELECT * FROM donuts"
   ]
  },
  {
   "cell_type": "markdown",
   "metadata": {},
   "source": [
    "Keep in mind that the SELECT statement refers to columns, not rows. If we want to limit the number of columns returned, we do that accordingly:\n",
    "\n",
    "```\n",
    "SELECT glaze FROM donuts\n",
    "```\n",
    "\n",
    "which will return just the _glaze_ column and all rows in the table. Limiting the number of rows returned can be done various ways, notably by using a WHERE clause as detailed below."
   ]
  },
  {
   "cell_type": "code",
   "execution_count": 9,
   "metadata": {},
   "outputs": [
    {
     "name": "stdout",
     "output_type": "stream",
     "text": [
      "Done.\n"
     ]
    },
    {
     "data": {
      "text/html": [
       "<table>\n",
       "    <tr>\n",
       "        <th>glaze</th>\n",
       "    </tr>\n",
       "    <tr>\n",
       "        <td>maple</td>\n",
       "    </tr>\n",
       "    <tr>\n",
       "        <td>sugar</td>\n",
       "    </tr>\n",
       "</table>"
      ],
      "text/plain": [
       "[('maple',), ('sugar',)]"
      ]
     },
     "execution_count": 9,
     "metadata": {},
     "output_type": "execute_result"
    }
   ],
   "source": [
    "%sql SELECT glaze FROM donuts"
   ]
  },
  {
   "cell_type": "code",
   "execution_count": 10,
   "metadata": {},
   "outputs": [
    {
     "name": "stdout",
     "output_type": "stream",
     "text": [
      "1 rows affected.\n",
      "1 rows affected.\n",
      "1 rows affected.\n",
      "1 rows affected.\n"
     ]
    },
    {
     "data": {
      "text/plain": [
       "[]"
      ]
     },
     "execution_count": 10,
     "metadata": {},
     "output_type": "execute_result"
    }
   ],
   "source": [
    "%%sql\n",
    "INSERT INTO donuts VALUES (3, 'yeast', 'maple', 'boston creme');\n",
    "INSERT INTO donuts VALUES (4, 'yeast', 'chocolate', 'none');\n",
    "INSERT INTO donuts VALUES (5, 'cruller', 'vanilla', 'none');\n",
    "INSERT INTO donuts VALUES (6, 'yeast', 'chocolate ', 'boston creme');"
   ]
  },
  {
   "cell_type": "code",
   "execution_count": 11,
   "metadata": {},
   "outputs": [
    {
     "name": "stdout",
     "output_type": "stream",
     "text": [
      "Done.\n"
     ]
    },
    {
     "data": {
      "text/html": [
       "<table>\n",
       "    <tr>\n",
       "        <th>doNum</th>\n",
       "        <th>dough</th>\n",
       "        <th>glaze</th>\n",
       "        <th>filling</th>\n",
       "    </tr>\n",
       "    <tr>\n",
       "        <td>1</td>\n",
       "        <td>cake</td>\n",
       "        <td>maple</td>\n",
       "        <td>none</td>\n",
       "    </tr>\n",
       "    <tr>\n",
       "        <td>2</td>\n",
       "        <td>yeast</td>\n",
       "        <td>sugar</td>\n",
       "        <td>none</td>\n",
       "    </tr>\n",
       "    <tr>\n",
       "        <td>3</td>\n",
       "        <td>yeast</td>\n",
       "        <td>maple</td>\n",
       "        <td>boston creme</td>\n",
       "    </tr>\n",
       "    <tr>\n",
       "        <td>4</td>\n",
       "        <td>yeast</td>\n",
       "        <td>chocolate</td>\n",
       "        <td>none</td>\n",
       "    </tr>\n",
       "    <tr>\n",
       "        <td>5</td>\n",
       "        <td>cruller</td>\n",
       "        <td>vanilla</td>\n",
       "        <td>none</td>\n",
       "    </tr>\n",
       "    <tr>\n",
       "        <td>6</td>\n",
       "        <td>yeast</td>\n",
       "        <td>chocolate </td>\n",
       "        <td>boston creme</td>\n",
       "    </tr>\n",
       "</table>"
      ],
      "text/plain": [
       "[(1, 'cake', 'maple', 'none'),\n",
       " (2, 'yeast', 'sugar', 'none'),\n",
       " (3, 'yeast', 'maple', 'boston creme'),\n",
       " (4, 'yeast', 'chocolate', 'none'),\n",
       " (5, 'cruller', 'vanilla', 'none'),\n",
       " (6, 'yeast', 'chocolate ', 'boston creme')]"
      ]
     },
     "execution_count": 11,
     "metadata": {},
     "output_type": "execute_result"
    }
   ],
   "source": [
    "%sql SELECT * FROM donuts"
   ]
  },
  {
   "cell_type": "markdown",
   "metadata": {},
   "source": [
    "### A closer look at the CREATE statement\n",
    "\n",
    "As noted, our _donuts_ table is structurally poor. There's nothing to stop us from documenting the same donut twice, omitting information about what kind of dough or glaze is used, etc. Imagine the things that could go wrong!\n",
    "\n",
    "Earlier we talked about constraints to enforce integrity checks on tables and data. In the next block, we re-create our _donuts_ table with some uniqueness, data typing, non-null, and check constraints."
   ]
  },
  {
   "cell_type": "code",
   "execution_count": 12,
   "metadata": {},
   "outputs": [
    {
     "name": "stdout",
     "output_type": "stream",
     "text": [
      "Done.\n",
      "Done.\n"
     ]
    },
    {
     "data": {
      "text/plain": [
       "[]"
      ]
     },
     "execution_count": 12,
     "metadata": {},
     "output_type": "execute_result"
    }
   ],
   "source": [
    "%%sql\n",
    "DROP TABLE IF EXISTS donuts;\n",
    "CREATE TABLE IF NOT EXISTS donuts ('doNum' INTEGER NOT NULL PRIMARY KEY AUTOINCREMENT UNIQUE, \n",
    "                                   'dough' TEXT NOT NULL CHECK(dough=\"cake\" OR dough=\"yeast\"),\n",
    "                                   'glaze' TEXT NOT NULL,\n",
    "                                   'filling' TEXT);"
   ]
  },
  {
   "cell_type": "markdown",
   "metadata": {},
   "source": [
    "If we inspect the table using PRAGMA, we get a different result from before."
   ]
  },
  {
   "cell_type": "code",
   "execution_count": 13,
   "metadata": {},
   "outputs": [
    {
     "name": "stdout",
     "output_type": "stream",
     "text": [
      "Done.\n"
     ]
    },
    {
     "data": {
      "text/html": [
       "<table>\n",
       "    <tr>\n",
       "        <th>cid</th>\n",
       "        <th>name</th>\n",
       "        <th>type</th>\n",
       "        <th>notnull</th>\n",
       "        <th>dflt_value</th>\n",
       "        <th>pk</th>\n",
       "    </tr>\n",
       "    <tr>\n",
       "        <td>0</td>\n",
       "        <td>doNum</td>\n",
       "        <td>INTEGER</td>\n",
       "        <td>1</td>\n",
       "        <td>None</td>\n",
       "        <td>1</td>\n",
       "    </tr>\n",
       "    <tr>\n",
       "        <td>1</td>\n",
       "        <td>dough</td>\n",
       "        <td>TEXT</td>\n",
       "        <td>1</td>\n",
       "        <td>None</td>\n",
       "        <td>0</td>\n",
       "    </tr>\n",
       "    <tr>\n",
       "        <td>2</td>\n",
       "        <td>glaze</td>\n",
       "        <td>TEXT</td>\n",
       "        <td>1</td>\n",
       "        <td>None</td>\n",
       "        <td>0</td>\n",
       "    </tr>\n",
       "    <tr>\n",
       "        <td>3</td>\n",
       "        <td>filling</td>\n",
       "        <td>TEXT</td>\n",
       "        <td>0</td>\n",
       "        <td>None</td>\n",
       "        <td>0</td>\n",
       "    </tr>\n",
       "</table>"
      ],
      "text/plain": [
       "[(0, 'doNum', 'INTEGER', 1, None, 1),\n",
       " (1, 'dough', 'TEXT', 1, None, 0),\n",
       " (2, 'glaze', 'TEXT', 1, None, 0),\n",
       " (3, 'filling', 'TEXT', 0, None, 0)]"
      ]
     },
     "execution_count": 13,
     "metadata": {},
     "output_type": "execute_result"
    }
   ],
   "source": [
    "%sql PRAGMA TABLE_INFO(donuts);"
   ]
  },
  {
   "cell_type": "markdown",
   "metadata": {},
   "source": [
    "### A closer look at the INSERT statement\n",
    "\n",
    "Any data entered into _donuts_ now needs to satsify the constraints. Note that this time around we are also specifying the columns."
   ]
  },
  {
   "cell_type": "code",
   "execution_count": 14,
   "metadata": {},
   "outputs": [
    {
     "name": "stdout",
     "output_type": "stream",
     "text": [
      "1 rows affected.\n",
      "1 rows affected.\n",
      "1 rows affected.\n",
      "1 rows affected.\n"
     ]
    },
    {
     "data": {
      "text/plain": [
       "[]"
      ]
     },
     "execution_count": 14,
     "metadata": {},
     "output_type": "execute_result"
    }
   ],
   "source": [
    "%%sql\n",
    "INSERT INTO donuts ('dough', 'glaze', 'filling') VALUES ('cake', 'maple', 'none');\n",
    "INSERT INTO donuts ('dough', 'glaze', 'filling') VALUES ('yeast', 'sugar', 'none');\n",
    "INSERT INTO donuts ('filling', 'glaze', 'dough') VALUES ('none', 'maple', 'yeast');\n",
    "INSERT INTO donuts ('glaze', 'dough','filling') VALUES ('sugar', 'cake', 'none');"
   ]
  },
  {
   "cell_type": "markdown",
   "metadata": {},
   "source": [
    "Selecting all demonstrates that the value for our 'doNum' primary key is automatically generated."
   ]
  },
  {
   "cell_type": "code",
   "execution_count": 15,
   "metadata": {},
   "outputs": [
    {
     "name": "stdout",
     "output_type": "stream",
     "text": [
      "Done.\n"
     ]
    },
    {
     "data": {
      "text/html": [
       "<table>\n",
       "    <tr>\n",
       "        <th>doNum</th>\n",
       "        <th>dough</th>\n",
       "        <th>glaze</th>\n",
       "        <th>filling</th>\n",
       "    </tr>\n",
       "    <tr>\n",
       "        <td>1</td>\n",
       "        <td>cake</td>\n",
       "        <td>maple</td>\n",
       "        <td>none</td>\n",
       "    </tr>\n",
       "    <tr>\n",
       "        <td>2</td>\n",
       "        <td>yeast</td>\n",
       "        <td>sugar</td>\n",
       "        <td>none</td>\n",
       "    </tr>\n",
       "    <tr>\n",
       "        <td>3</td>\n",
       "        <td>yeast</td>\n",
       "        <td>maple</td>\n",
       "        <td>none</td>\n",
       "    </tr>\n",
       "    <tr>\n",
       "        <td>4</td>\n",
       "        <td>cake</td>\n",
       "        <td>sugar</td>\n",
       "        <td>none</td>\n",
       "    </tr>\n",
       "</table>"
      ],
      "text/plain": [
       "[(1, 'cake', 'maple', 'none'),\n",
       " (2, 'yeast', 'sugar', 'none'),\n",
       " (3, 'yeast', 'maple', 'none'),\n",
       " (4, 'cake', 'sugar', 'none')]"
      ]
     },
     "execution_count": 15,
     "metadata": {},
     "output_type": "execute_result"
    }
   ],
   "source": [
    "%sql SELECT * FROM donuts"
   ]
  },
  {
   "cell_type": "markdown",
   "metadata": {},
   "source": [
    "The new constraints make it easy to break:"
   ]
  },
  {
   "cell_type": "code",
   "execution_count": 16,
   "metadata": {},
   "outputs": [
    {
     "name": "stdout",
     "output_type": "stream",
     "text": [
      "1 rows affected.\n",
      "1 rows affected.\n",
      "(sqlite3.IntegrityError) CHECK constraint failed: donuts [SQL: \"INSERT INTO donuts ('dough', 'glaze', 'filling') VALUES ('cruller', 'vanilla', 'none');\"]\n"
     ]
    }
   ],
   "source": [
    "try:\n",
    "    %sql INSERT INTO donuts ('dough', 'glaze', 'filling') VALUES ('yeast', 'maple', 'boston creme');\n",
    "    %sql INSERT INTO donuts ('dough', 'glaze', 'filling') VALUES ('yeast', 'chocolate', 'none');\n",
    "    %sql INSERT INTO donuts ('dough', 'glaze', 'filling') VALUES ('cruller', 'vanilla', 'none');\n",
    "    %sql INSERT INTO donuts ('dough', 'glaze', 'filling') VALUES ('yeast', 'chocolate ', 'boston creme');\n",
    "except Exception as e:\n",
    "    print(str(e))"
   ]
  },
  {
   "cell_type": "markdown",
   "metadata": {},
   "source": [
    "Correct the error and try again:"
   ]
  },
  {
   "cell_type": "code",
   "execution_count": 17,
   "metadata": {},
   "outputs": [
    {
     "name": "stdout",
     "output_type": "stream",
     "text": [
      "1 rows affected.\n",
      "1 rows affected.\n",
      "1 rows affected.\n",
      "1 rows affected.\n",
      "1 rows affected.\n",
      "1 rows affected.\n"
     ]
    }
   ],
   "source": [
    "try:\n",
    "    %sql INSERT INTO donuts ('dough', 'glaze', 'filling') VALUES ('yeast', 'maple', 'boston creme');\n",
    "    %sql INSERT INTO donuts ('dough', 'glaze') VALUES ('yeast', 'chocolate');\n",
    "    %sql INSERT INTO donuts ('dough', 'glaze') VALUES ('cake', 'vanilla');\n",
    "    %sql INSERT INTO donuts ('dough', 'glaze', 'filling') VALUES ('yeast', 'chocolate', ' ');\n",
    "    %sql INSERT INTO donuts ('dough', 'glaze', 'filling') VALUES ('cake', 'vanilla', ' ');\n",
    "    %sql INSERT INTO donuts ('dough', 'glaze', 'filling') VALUES ('yeast', 'chocolate ', 'boston creme');\n",
    "except Exception as e:\n",
    "    print(str(e))"
   ]
  },
  {
   "cell_type": "code",
   "execution_count": 18,
   "metadata": {},
   "outputs": [
    {
     "name": "stdout",
     "output_type": "stream",
     "text": [
      "Done.\n"
     ]
    },
    {
     "data": {
      "text/html": [
       "<table>\n",
       "    <tr>\n",
       "        <th>doNum</th>\n",
       "        <th>dough</th>\n",
       "        <th>glaze</th>\n",
       "        <th>filling</th>\n",
       "    </tr>\n",
       "    <tr>\n",
       "        <td>1</td>\n",
       "        <td>cake</td>\n",
       "        <td>maple</td>\n",
       "        <td>none</td>\n",
       "    </tr>\n",
       "    <tr>\n",
       "        <td>2</td>\n",
       "        <td>yeast</td>\n",
       "        <td>sugar</td>\n",
       "        <td>none</td>\n",
       "    </tr>\n",
       "    <tr>\n",
       "        <td>3</td>\n",
       "        <td>yeast</td>\n",
       "        <td>maple</td>\n",
       "        <td>none</td>\n",
       "    </tr>\n",
       "    <tr>\n",
       "        <td>4</td>\n",
       "        <td>cake</td>\n",
       "        <td>sugar</td>\n",
       "        <td>none</td>\n",
       "    </tr>\n",
       "    <tr>\n",
       "        <td>5</td>\n",
       "        <td>yeast</td>\n",
       "        <td>maple</td>\n",
       "        <td>boston creme</td>\n",
       "    </tr>\n",
       "    <tr>\n",
       "        <td>6</td>\n",
       "        <td>yeast</td>\n",
       "        <td>chocolate</td>\n",
       "        <td>none</td>\n",
       "    </tr>\n",
       "    <tr>\n",
       "        <td>7</td>\n",
       "        <td>yeast</td>\n",
       "        <td>maple</td>\n",
       "        <td>boston creme</td>\n",
       "    </tr>\n",
       "    <tr>\n",
       "        <td>8</td>\n",
       "        <td>yeast</td>\n",
       "        <td>chocolate</td>\n",
       "        <td>None</td>\n",
       "    </tr>\n",
       "    <tr>\n",
       "        <td>9</td>\n",
       "        <td>cake</td>\n",
       "        <td>vanilla</td>\n",
       "        <td>None</td>\n",
       "    </tr>\n",
       "    <tr>\n",
       "        <td>10</td>\n",
       "        <td>yeast</td>\n",
       "        <td>chocolate</td>\n",
       "        <td> </td>\n",
       "    </tr>\n",
       "    <tr>\n",
       "        <td>11</td>\n",
       "        <td>cake</td>\n",
       "        <td>vanilla</td>\n",
       "        <td> </td>\n",
       "    </tr>\n",
       "    <tr>\n",
       "        <td>12</td>\n",
       "        <td>yeast</td>\n",
       "        <td>chocolate </td>\n",
       "        <td>boston creme</td>\n",
       "    </tr>\n",
       "</table>"
      ],
      "text/plain": [
       "[(1, 'cake', 'maple', 'none'),\n",
       " (2, 'yeast', 'sugar', 'none'),\n",
       " (3, 'yeast', 'maple', 'none'),\n",
       " (4, 'cake', 'sugar', 'none'),\n",
       " (5, 'yeast', 'maple', 'boston creme'),\n",
       " (6, 'yeast', 'chocolate', 'none'),\n",
       " (7, 'yeast', 'maple', 'boston creme'),\n",
       " (8, 'yeast', 'chocolate', None),\n",
       " (9, 'cake', 'vanilla', None),\n",
       " (10, 'yeast', 'chocolate', ' '),\n",
       " (11, 'cake', 'vanilla', ' '),\n",
       " (12, 'yeast', 'chocolate ', 'boston creme')]"
      ]
     },
     "execution_count": 18,
     "metadata": {},
     "output_type": "execute_result"
    }
   ],
   "source": [
    "%sql SELECT * FROM donuts"
   ]
  },
  {
   "cell_type": "markdown",
   "metadata": {},
   "source": [
    "### Modifying rows with UPDATE\n",
    "\n",
    "Our table still has some problems. In particular, anything goes in the _filling_ column. That might be fine for donuts, but not for _donuts_!\n",
    "\n",
    "The ideal solution is to alter the table definition to create some check or constraint on _filling_. The process is a bit convulted in SQLite, so for today we will merely update rows."
   ]
  },
  {
   "cell_type": "code",
   "execution_count": 19,
   "metadata": {},
   "outputs": [
    {
     "name": "stdout",
     "output_type": "stream",
     "text": [
      "2 rows affected.\n"
     ]
    },
    {
     "data": {
      "text/plain": [
       "[]"
      ]
     },
     "execution_count": 19,
     "metadata": {},
     "output_type": "execute_result"
    }
   ],
   "source": [
    "%%sql\n",
    "UPDATE donuts\n",
    "SET filling = 'none'\n",
    "WHERE filling IS NULL;"
   ]
  },
  {
   "cell_type": "code",
   "execution_count": 20,
   "metadata": {},
   "outputs": [
    {
     "name": "stdout",
     "output_type": "stream",
     "text": [
      "Done.\n"
     ]
    },
    {
     "data": {
      "text/html": [
       "<table>\n",
       "    <tr>\n",
       "        <th>doNum</th>\n",
       "        <th>dough</th>\n",
       "        <th>glaze</th>\n",
       "        <th>filling</th>\n",
       "    </tr>\n",
       "    <tr>\n",
       "        <td>1</td>\n",
       "        <td>cake</td>\n",
       "        <td>maple</td>\n",
       "        <td>none</td>\n",
       "    </tr>\n",
       "    <tr>\n",
       "        <td>2</td>\n",
       "        <td>yeast</td>\n",
       "        <td>sugar</td>\n",
       "        <td>none</td>\n",
       "    </tr>\n",
       "    <tr>\n",
       "        <td>3</td>\n",
       "        <td>yeast</td>\n",
       "        <td>maple</td>\n",
       "        <td>none</td>\n",
       "    </tr>\n",
       "    <tr>\n",
       "        <td>4</td>\n",
       "        <td>cake</td>\n",
       "        <td>sugar</td>\n",
       "        <td>none</td>\n",
       "    </tr>\n",
       "    <tr>\n",
       "        <td>5</td>\n",
       "        <td>yeast</td>\n",
       "        <td>maple</td>\n",
       "        <td>boston creme</td>\n",
       "    </tr>\n",
       "    <tr>\n",
       "        <td>6</td>\n",
       "        <td>yeast</td>\n",
       "        <td>chocolate</td>\n",
       "        <td>none</td>\n",
       "    </tr>\n",
       "    <tr>\n",
       "        <td>7</td>\n",
       "        <td>yeast</td>\n",
       "        <td>maple</td>\n",
       "        <td>boston creme</td>\n",
       "    </tr>\n",
       "    <tr>\n",
       "        <td>8</td>\n",
       "        <td>yeast</td>\n",
       "        <td>chocolate</td>\n",
       "        <td>none</td>\n",
       "    </tr>\n",
       "    <tr>\n",
       "        <td>9</td>\n",
       "        <td>cake</td>\n",
       "        <td>vanilla</td>\n",
       "        <td>none</td>\n",
       "    </tr>\n",
       "    <tr>\n",
       "        <td>10</td>\n",
       "        <td>yeast</td>\n",
       "        <td>chocolate</td>\n",
       "        <td> </td>\n",
       "    </tr>\n",
       "    <tr>\n",
       "        <td>11</td>\n",
       "        <td>cake</td>\n",
       "        <td>vanilla</td>\n",
       "        <td> </td>\n",
       "    </tr>\n",
       "    <tr>\n",
       "        <td>12</td>\n",
       "        <td>yeast</td>\n",
       "        <td>chocolate </td>\n",
       "        <td>boston creme</td>\n",
       "    </tr>\n",
       "</table>"
      ],
      "text/plain": [
       "[(1, 'cake', 'maple', 'none'),\n",
       " (2, 'yeast', 'sugar', 'none'),\n",
       " (3, 'yeast', 'maple', 'none'),\n",
       " (4, 'cake', 'sugar', 'none'),\n",
       " (5, 'yeast', 'maple', 'boston creme'),\n",
       " (6, 'yeast', 'chocolate', 'none'),\n",
       " (7, 'yeast', 'maple', 'boston creme'),\n",
       " (8, 'yeast', 'chocolate', 'none'),\n",
       " (9, 'cake', 'vanilla', 'none'),\n",
       " (10, 'yeast', 'chocolate', ' '),\n",
       " (11, 'cake', 'vanilla', ' '),\n",
       " (12, 'yeast', 'chocolate ', 'boston creme')]"
      ]
     },
     "execution_count": 20,
     "metadata": {},
     "output_type": "execute_result"
    }
   ],
   "source": [
    "%sql SELECT * FROM donuts"
   ]
  },
  {
   "cell_type": "code",
   "execution_count": 21,
   "metadata": {},
   "outputs": [
    {
     "name": "stdout",
     "output_type": "stream",
     "text": [
      "2 rows affected.\n"
     ]
    },
    {
     "data": {
      "text/plain": [
       "[]"
      ]
     },
     "execution_count": 21,
     "metadata": {},
     "output_type": "execute_result"
    }
   ],
   "source": [
    "%%sql\n",
    "UPDATE donuts\n",
    "SET filling = 'none'\n",
    "WHERE filling = ' ';"
   ]
  },
  {
   "cell_type": "code",
   "execution_count": 22,
   "metadata": {},
   "outputs": [
    {
     "name": "stdout",
     "output_type": "stream",
     "text": [
      "Done.\n"
     ]
    },
    {
     "data": {
      "text/html": [
       "<table>\n",
       "    <tr>\n",
       "        <th>doNum</th>\n",
       "        <th>dough</th>\n",
       "        <th>glaze</th>\n",
       "        <th>filling</th>\n",
       "    </tr>\n",
       "    <tr>\n",
       "        <td>1</td>\n",
       "        <td>cake</td>\n",
       "        <td>maple</td>\n",
       "        <td>none</td>\n",
       "    </tr>\n",
       "    <tr>\n",
       "        <td>2</td>\n",
       "        <td>yeast</td>\n",
       "        <td>sugar</td>\n",
       "        <td>none</td>\n",
       "    </tr>\n",
       "    <tr>\n",
       "        <td>3</td>\n",
       "        <td>yeast</td>\n",
       "        <td>maple</td>\n",
       "        <td>none</td>\n",
       "    </tr>\n",
       "    <tr>\n",
       "        <td>4</td>\n",
       "        <td>cake</td>\n",
       "        <td>sugar</td>\n",
       "        <td>none</td>\n",
       "    </tr>\n",
       "    <tr>\n",
       "        <td>5</td>\n",
       "        <td>yeast</td>\n",
       "        <td>maple</td>\n",
       "        <td>boston creme</td>\n",
       "    </tr>\n",
       "    <tr>\n",
       "        <td>6</td>\n",
       "        <td>yeast</td>\n",
       "        <td>chocolate</td>\n",
       "        <td>none</td>\n",
       "    </tr>\n",
       "    <tr>\n",
       "        <td>7</td>\n",
       "        <td>yeast</td>\n",
       "        <td>maple</td>\n",
       "        <td>boston creme</td>\n",
       "    </tr>\n",
       "    <tr>\n",
       "        <td>8</td>\n",
       "        <td>yeast</td>\n",
       "        <td>chocolate</td>\n",
       "        <td>none</td>\n",
       "    </tr>\n",
       "    <tr>\n",
       "        <td>9</td>\n",
       "        <td>cake</td>\n",
       "        <td>vanilla</td>\n",
       "        <td>none</td>\n",
       "    </tr>\n",
       "    <tr>\n",
       "        <td>10</td>\n",
       "        <td>yeast</td>\n",
       "        <td>chocolate</td>\n",
       "        <td>none</td>\n",
       "    </tr>\n",
       "    <tr>\n",
       "        <td>11</td>\n",
       "        <td>cake</td>\n",
       "        <td>vanilla</td>\n",
       "        <td>none</td>\n",
       "    </tr>\n",
       "    <tr>\n",
       "        <td>12</td>\n",
       "        <td>yeast</td>\n",
       "        <td>chocolate </td>\n",
       "        <td>boston creme</td>\n",
       "    </tr>\n",
       "</table>"
      ],
      "text/plain": [
       "[(1, 'cake', 'maple', 'none'),\n",
       " (2, 'yeast', 'sugar', 'none'),\n",
       " (3, 'yeast', 'maple', 'none'),\n",
       " (4, 'cake', 'sugar', 'none'),\n",
       " (5, 'yeast', 'maple', 'boston creme'),\n",
       " (6, 'yeast', 'chocolate', 'none'),\n",
       " (7, 'yeast', 'maple', 'boston creme'),\n",
       " (8, 'yeast', 'chocolate', 'none'),\n",
       " (9, 'cake', 'vanilla', 'none'),\n",
       " (10, 'yeast', 'chocolate', 'none'),\n",
       " (11, 'cake', 'vanilla', 'none'),\n",
       " (12, 'yeast', 'chocolate ', 'boston creme')]"
      ]
     },
     "execution_count": 22,
     "metadata": {},
     "output_type": "execute_result"
    }
   ],
   "source": [
    "%sql SELECT * FROM donuts"
   ]
  },
  {
   "cell_type": "markdown",
   "metadata": {},
   "source": [
    "### Modifying rows with the DELETE statement\n",
    "\n",
    "It is also possible to remove rows."
   ]
  },
  {
   "cell_type": "code",
   "execution_count": 23,
   "metadata": {},
   "outputs": [
    {
     "name": "stdout",
     "output_type": "stream",
     "text": [
      "4 rows affected.\n"
     ]
    },
    {
     "data": {
      "text/plain": [
       "[]"
      ]
     },
     "execution_count": 23,
     "metadata": {},
     "output_type": "execute_result"
    }
   ],
   "source": [
    "%%sql\n",
    "DELETE FROM donuts\n",
    "WHERE glaze = 'maple';"
   ]
  },
  {
   "cell_type": "code",
   "execution_count": 24,
   "metadata": {},
   "outputs": [
    {
     "name": "stdout",
     "output_type": "stream",
     "text": [
      "Done.\n"
     ]
    },
    {
     "data": {
      "text/html": [
       "<table>\n",
       "    <tr>\n",
       "        <th>doNum</th>\n",
       "        <th>dough</th>\n",
       "        <th>glaze</th>\n",
       "        <th>filling</th>\n",
       "    </tr>\n",
       "    <tr>\n",
       "        <td>2</td>\n",
       "        <td>yeast</td>\n",
       "        <td>sugar</td>\n",
       "        <td>none</td>\n",
       "    </tr>\n",
       "    <tr>\n",
       "        <td>4</td>\n",
       "        <td>cake</td>\n",
       "        <td>sugar</td>\n",
       "        <td>none</td>\n",
       "    </tr>\n",
       "    <tr>\n",
       "        <td>6</td>\n",
       "        <td>yeast</td>\n",
       "        <td>chocolate</td>\n",
       "        <td>none</td>\n",
       "    </tr>\n",
       "    <tr>\n",
       "        <td>8</td>\n",
       "        <td>yeast</td>\n",
       "        <td>chocolate</td>\n",
       "        <td>none</td>\n",
       "    </tr>\n",
       "    <tr>\n",
       "        <td>9</td>\n",
       "        <td>cake</td>\n",
       "        <td>vanilla</td>\n",
       "        <td>none</td>\n",
       "    </tr>\n",
       "    <tr>\n",
       "        <td>10</td>\n",
       "        <td>yeast</td>\n",
       "        <td>chocolate</td>\n",
       "        <td>none</td>\n",
       "    </tr>\n",
       "    <tr>\n",
       "        <td>11</td>\n",
       "        <td>cake</td>\n",
       "        <td>vanilla</td>\n",
       "        <td>none</td>\n",
       "    </tr>\n",
       "    <tr>\n",
       "        <td>12</td>\n",
       "        <td>yeast</td>\n",
       "        <td>chocolate </td>\n",
       "        <td>boston creme</td>\n",
       "    </tr>\n",
       "</table>"
      ],
      "text/plain": [
       "[(2, 'yeast', 'sugar', 'none'),\n",
       " (4, 'cake', 'sugar', 'none'),\n",
       " (6, 'yeast', 'chocolate', 'none'),\n",
       " (8, 'yeast', 'chocolate', 'none'),\n",
       " (9, 'cake', 'vanilla', 'none'),\n",
       " (10, 'yeast', 'chocolate', 'none'),\n",
       " (11, 'cake', 'vanilla', 'none'),\n",
       " (12, 'yeast', 'chocolate ', 'boston creme')]"
      ]
     },
     "execution_count": 24,
     "metadata": {},
     "output_type": "execute_result"
    }
   ],
   "source": [
    "%sql SELECT * FROM donuts"
   ]
  },
  {
   "cell_type": "markdown",
   "metadata": {},
   "source": [
    "### Filtering rows with WHERE\n",
    "\n",
    "The WHERE clause is used to filter the execution or output of a command. We used it above to set a condition for updating and deleting rows.\n",
    "\n",
    "Especially with large and complex datasets, WHERE provides the capability to filter or subset the output of a SELECT statement as well."
   ]
  },
  {
   "cell_type": "code",
   "execution_count": 25,
   "metadata": {},
   "outputs": [
    {
     "name": "stdout",
     "output_type": "stream",
     "text": [
      "Done.\n"
     ]
    },
    {
     "data": {
      "text/html": [
       "<table>\n",
       "    <tr>\n",
       "        <th>doNum</th>\n",
       "        <th>dough</th>\n",
       "        <th>glaze</th>\n",
       "        <th>filling</th>\n",
       "    </tr>\n",
       "    <tr>\n",
       "        <td>2</td>\n",
       "        <td>yeast</td>\n",
       "        <td>sugar</td>\n",
       "        <td>none</td>\n",
       "    </tr>\n",
       "    <tr>\n",
       "        <td>6</td>\n",
       "        <td>yeast</td>\n",
       "        <td>chocolate</td>\n",
       "        <td>none</td>\n",
       "    </tr>\n",
       "    <tr>\n",
       "        <td>8</td>\n",
       "        <td>yeast</td>\n",
       "        <td>chocolate</td>\n",
       "        <td>none</td>\n",
       "    </tr>\n",
       "    <tr>\n",
       "        <td>10</td>\n",
       "        <td>yeast</td>\n",
       "        <td>chocolate</td>\n",
       "        <td>none</td>\n",
       "    </tr>\n",
       "    <tr>\n",
       "        <td>12</td>\n",
       "        <td>yeast</td>\n",
       "        <td>chocolate </td>\n",
       "        <td>boston creme</td>\n",
       "    </tr>\n",
       "</table>"
      ],
      "text/plain": [
       "[(2, 'yeast', 'sugar', 'none'),\n",
       " (6, 'yeast', 'chocolate', 'none'),\n",
       " (8, 'yeast', 'chocolate', 'none'),\n",
       " (10, 'yeast', 'chocolate', 'none'),\n",
       " (12, 'yeast', 'chocolate ', 'boston creme')]"
      ]
     },
     "execution_count": 25,
     "metadata": {},
     "output_type": "execute_result"
    }
   ],
   "source": [
    "%%sql\n",
    "SELECT *\n",
    "FROM donuts\n",
    "WHERE dough = 'yeast';"
   ]
  },
  {
   "cell_type": "markdown",
   "metadata": {},
   "source": [
    "The expression which follows the WHERE clause can include multiple conditions."
   ]
  },
  {
   "cell_type": "code",
   "execution_count": 26,
   "metadata": {},
   "outputs": [
    {
     "name": "stdout",
     "output_type": "stream",
     "text": [
      "Done.\n"
     ]
    },
    {
     "data": {
      "text/html": [
       "<table>\n",
       "    <tr>\n",
       "        <th>doNum</th>\n",
       "        <th>dough</th>\n",
       "        <th>glaze</th>\n",
       "        <th>filling</th>\n",
       "    </tr>\n",
       "    <tr>\n",
       "        <td>2</td>\n",
       "        <td>yeast</td>\n",
       "        <td>sugar</td>\n",
       "        <td>none</td>\n",
       "    </tr>\n",
       "</table>"
      ],
      "text/plain": [
       "[(2, 'yeast', 'sugar', 'none')]"
      ]
     },
     "execution_count": 26,
     "metadata": {},
     "output_type": "execute_result"
    }
   ],
   "source": [
    "%%sql\n",
    "SELECT *\n",
    "FROM donuts\n",
    "WHERE dough = 'yeast' AND glaze = 'sugar';"
   ]
  },
  {
   "cell_type": "code",
   "execution_count": 27,
   "metadata": {},
   "outputs": [
    {
     "name": "stdout",
     "output_type": "stream",
     "text": [
      "Done.\n"
     ]
    },
    {
     "data": {
      "text/html": [
       "<table>\n",
       "    <tr>\n",
       "        <th>doNum</th>\n",
       "        <th>dough</th>\n",
       "        <th>glaze</th>\n",
       "        <th>filling</th>\n",
       "    </tr>\n",
       "    <tr>\n",
       "        <td>4</td>\n",
       "        <td>cake</td>\n",
       "        <td>sugar</td>\n",
       "        <td>none</td>\n",
       "    </tr>\n",
       "    <tr>\n",
       "        <td>9</td>\n",
       "        <td>cake</td>\n",
       "        <td>vanilla</td>\n",
       "        <td>none</td>\n",
       "    </tr>\n",
       "    <tr>\n",
       "        <td>11</td>\n",
       "        <td>cake</td>\n",
       "        <td>vanilla</td>\n",
       "        <td>none</td>\n",
       "    </tr>\n",
       "    <tr>\n",
       "        <td>12</td>\n",
       "        <td>yeast</td>\n",
       "        <td>chocolate </td>\n",
       "        <td>boston creme</td>\n",
       "    </tr>\n",
       "</table>"
      ],
      "text/plain": [
       "[(4, 'cake', 'sugar', 'none'),\n",
       " (9, 'cake', 'vanilla', 'none'),\n",
       " (11, 'cake', 'vanilla', 'none'),\n",
       " (12, 'yeast', 'chocolate ', 'boston creme')]"
      ]
     },
     "execution_count": 27,
     "metadata": {},
     "output_type": "execute_result"
    }
   ],
   "source": [
    "%%sql\n",
    "SELECT *\n",
    "FROM donuts\n",
    "WHERE dough = 'cake' OR filling = 'boston creme';"
   ]
  },
  {
   "cell_type": "markdown",
   "metadata": {},
   "source": [
    "Use parenthesis to group conditions:"
   ]
  },
  {
   "cell_type": "code",
   "execution_count": 28,
   "metadata": {},
   "outputs": [
    {
     "name": "stdout",
     "output_type": "stream",
     "text": [
      "Done.\n"
     ]
    },
    {
     "data": {
      "text/html": [
       "<table>\n",
       "    <tr>\n",
       "        <th>doNum</th>\n",
       "        <th>dough</th>\n",
       "        <th>glaze</th>\n",
       "        <th>filling</th>\n",
       "    </tr>\n",
       "    <tr>\n",
       "        <td>2</td>\n",
       "        <td>yeast</td>\n",
       "        <td>sugar</td>\n",
       "        <td>none</td>\n",
       "    </tr>\n",
       "    <tr>\n",
       "        <td>4</td>\n",
       "        <td>cake</td>\n",
       "        <td>sugar</td>\n",
       "        <td>none</td>\n",
       "    </tr>\n",
       "    <tr>\n",
       "        <td>6</td>\n",
       "        <td>yeast</td>\n",
       "        <td>chocolate</td>\n",
       "        <td>none</td>\n",
       "    </tr>\n",
       "    <tr>\n",
       "        <td>8</td>\n",
       "        <td>yeast</td>\n",
       "        <td>chocolate</td>\n",
       "        <td>none</td>\n",
       "    </tr>\n",
       "    <tr>\n",
       "        <td>10</td>\n",
       "        <td>yeast</td>\n",
       "        <td>chocolate</td>\n",
       "        <td>none</td>\n",
       "    </tr>\n",
       "    <tr>\n",
       "        <td>12</td>\n",
       "        <td>yeast</td>\n",
       "        <td>chocolate </td>\n",
       "        <td>boston creme</td>\n",
       "    </tr>\n",
       "</table>"
      ],
      "text/plain": [
       "[(2, 'yeast', 'sugar', 'none'),\n",
       " (4, 'cake', 'sugar', 'none'),\n",
       " (6, 'yeast', 'chocolate', 'none'),\n",
       " (8, 'yeast', 'chocolate', 'none'),\n",
       " (10, 'yeast', 'chocolate', 'none'),\n",
       " (12, 'yeast', 'chocolate ', 'boston creme')]"
      ]
     },
     "execution_count": 28,
     "metadata": {},
     "output_type": "execute_result"
    }
   ],
   "source": [
    "%%sql\n",
    "SELECT *\n",
    "FROM donuts\n",
    "WHERE dough = 'yeast' OR (dough = 'cake' AND glaze = 'sugar');"
   ]
  },
  {
   "cell_type": "markdown",
   "metadata": {},
   "source": [
    "### GROUP BY and ORDER BY\n",
    "\n",
    "We may not need to see information about every single donut in the database. If for example we're only interested in knowing how many combinations of cake, glaze, and filling we've got, we can group results using the GROUP BY clause. We can also use ORDER BY to sort the output."
   ]
  },
  {
   "cell_type": "code",
   "execution_count": 29,
   "metadata": {},
   "outputs": [
    {
     "name": "stdout",
     "output_type": "stream",
     "text": [
      "Done.\n"
     ]
    },
    {
     "data": {
      "text/html": [
       "<table>\n",
       "    <tr>\n",
       "        <th>dough</th>\n",
       "        <th>glaze</th>\n",
       "        <th>filling</th>\n",
       "    </tr>\n",
       "    <tr>\n",
       "        <td>cake</td>\n",
       "        <td>sugar</td>\n",
       "        <td>none</td>\n",
       "    </tr>\n",
       "    <tr>\n",
       "        <td>cake</td>\n",
       "        <td>vanilla</td>\n",
       "        <td>none</td>\n",
       "    </tr>\n",
       "    <tr>\n",
       "        <td>yeast</td>\n",
       "        <td>chocolate </td>\n",
       "        <td>boston creme</td>\n",
       "    </tr>\n",
       "    <tr>\n",
       "        <td>yeast</td>\n",
       "        <td>chocolate</td>\n",
       "        <td>none</td>\n",
       "    </tr>\n",
       "    <tr>\n",
       "        <td>yeast</td>\n",
       "        <td>sugar</td>\n",
       "        <td>none</td>\n",
       "    </tr>\n",
       "</table>"
      ],
      "text/plain": [
       "[('cake', 'sugar', 'none'),\n",
       " ('cake', 'vanilla', 'none'),\n",
       " ('yeast', 'chocolate ', 'boston creme'),\n",
       " ('yeast', 'chocolate', 'none'),\n",
       " ('yeast', 'sugar', 'none')]"
      ]
     },
     "execution_count": 29,
     "metadata": {},
     "output_type": "execute_result"
    }
   ],
   "source": [
    "%%sql\n",
    "SELECT dough, glaze, filling\n",
    "FROM donuts\n",
    "GROUP BY dough, glaze\n",
    "ORDER BY dough, filling;"
   ]
  },
  {
   "cell_type": "markdown",
   "metadata": {},
   "source": [
    "If we need a count of donuts available in each combination, we can use the _count()_ function."
   ]
  },
  {
   "cell_type": "code",
   "execution_count": 30,
   "metadata": {},
   "outputs": [
    {
     "name": "stdout",
     "output_type": "stream",
     "text": [
      "Done.\n"
     ]
    },
    {
     "data": {
      "text/html": [
       "<table>\n",
       "    <tr>\n",
       "        <th>dough</th>\n",
       "        <th>glaze</th>\n",
       "        <th>filling</th>\n",
       "        <th>count</th>\n",
       "    </tr>\n",
       "    <tr>\n",
       "        <td>cake</td>\n",
       "        <td>sugar</td>\n",
       "        <td>none</td>\n",
       "        <td>1</td>\n",
       "    </tr>\n",
       "    <tr>\n",
       "        <td>cake</td>\n",
       "        <td>vanilla</td>\n",
       "        <td>none</td>\n",
       "        <td>2</td>\n",
       "    </tr>\n",
       "    <tr>\n",
       "        <td>yeast</td>\n",
       "        <td>chocolate </td>\n",
       "        <td>boston creme</td>\n",
       "        <td>1</td>\n",
       "    </tr>\n",
       "    <tr>\n",
       "        <td>yeast</td>\n",
       "        <td>chocolate</td>\n",
       "        <td>none</td>\n",
       "        <td>3</td>\n",
       "    </tr>\n",
       "    <tr>\n",
       "        <td>yeast</td>\n",
       "        <td>sugar</td>\n",
       "        <td>none</td>\n",
       "        <td>1</td>\n",
       "    </tr>\n",
       "</table>"
      ],
      "text/plain": [
       "[('cake', 'sugar', 'none', 1),\n",
       " ('cake', 'vanilla', 'none', 2),\n",
       " ('yeast', 'chocolate ', 'boston creme', 1),\n",
       " ('yeast', 'chocolate', 'none', 3),\n",
       " ('yeast', 'sugar', 'none', 1)]"
      ]
     },
     "execution_count": 30,
     "metadata": {},
     "output_type": "execute_result"
    }
   ],
   "source": [
    "%%sql\n",
    "SELECT dough, glaze, filling, count(dough) as count\n",
    "FROM donuts\n",
    "GROUP BY dough, glaze\n",
    "ORDER BY dough, filling;"
   ]
  },
  {
   "cell_type": "code",
   "execution_count": null,
   "metadata": {
    "collapsed": true
   },
   "outputs": [],
   "source": []
  }
 ],
 "metadata": {
  "kernelspec": {
   "display_name": "Python 3",
   "language": "python",
   "name": "python3"
  },
  "language_info": {
   "codemirror_mode": {
    "name": "ipython",
    "version": 3
   },
   "file_extension": ".py",
   "mimetype": "text/x-python",
   "name": "python",
   "nbconvert_exporter": "python",
   "pygments_lexer": "ipython3",
   "version": "3.6.1"
  }
 },
 "nbformat": 4,
 "nbformat_minor": 2
}
